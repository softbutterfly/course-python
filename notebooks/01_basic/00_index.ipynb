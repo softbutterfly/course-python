{
 "cells": [
  {
   "cell_type": "markdown",
   "id": "eb2432a7-93f8-41c9-adc0-1007b73d48b9",
   "metadata": {
    "tags": []
   },
   "source": [
    "![Logo](../../assets/logo.png)"
   ]
  },
  {
   "cell_type": "markdown",
   "id": "a7d757f4-bc4e-440b-a2ef-8c528f5012a2",
   "metadata": {},
   "source": [
    "# **Python Básico**"
   ]
  },
  {
   "cell_type": "markdown",
   "id": "690793df-5f83-4138-8d2b-7cad8df3da94",
   "metadata": {
    "tags": []
   },
   "source": [
    "## [Introducción a Python](./01_introduction.ipynb)"
   ]
  },
  {
   "cell_type": "markdown",
   "id": "2c363ca3-b328-4c71-931c-cd8c0e65a7f5",
   "metadata": {
    "tags": []
   },
   "source": [
    "- Preparación del entorno de trabajo\n",
    "    - Jupyter Desktop App\n",
    "    - Google Colab\n",
    "    - Binder\n",
    "- Python como lenguaje de programación\n",
    "- Python y su ecosistema\n",
    "    - Gestores de paquetes\n",
    "        - Pip\n",
    "        - Poetry\n",
    "- Palabras clave en Python\n",
    "- Algunas funciones útiles\n",
    "- Variables\n",
    "    - Tipos de datos\n",
    "        - Booleanos\n",
    "        - Números\n",
    "        - Cadenas de texto\n",
    "        - Listas, tuplas y conjuntos\n",
    "        - Diccionarios \n",
    "        - Otros tipos de datos\n",
    "- Conversiones\n",
    "- Módulos y la biblioteca estándar"
   ]
  },
  {
   "cell_type": "markdown",
   "id": "78abb126-2d8c-4675-943f-7283275b59d4",
   "metadata": {},
   "source": [
    "## [Estructuras de control](./02_control_structures.ipynb)"
   ]
  },
  {
   "cell_type": "markdown",
   "id": "b4059531-136a-4c85-ba56-6a6112b1204b",
   "metadata": {},
   "source": [
    "- Decisiones\n",
    "    - `if`\n",
    "    - `if` … `else`\n",
    "    - `if` … `elif` … `else`\n",
    "    - `match` … `case`\n",
    "    - El operador ternario\n",
    "- Repeticiones\n",
    "    - `for`\n",
    "    - `for` … `else`\n",
    "    - `while`\n",
    "    - `while` … `else`\n",
    "    - `break` y `continue`"
   ]
  },
  {
   "cell_type": "markdown",
   "id": "0c94dc64-12c9-4d3a-a3dd-36603cb58ced",
   "metadata": {},
   "source": [
    "## [Funciones](./03_functions.ipynb)"
   ]
  },
  {
   "cell_type": "markdown",
   "id": "58943ce1-1b79-48bf-ab60-3ccec4d98aa7",
   "metadata": {},
   "source": [
    "- Funciones\n",
    "- Argumentos con nombre y argumentos sin nombre\n",
    "- Cantidad de argumentos indeterminados\n",
    "- Clausuras y decoradores\n",
    "- Espacios de nombres y ámbitos\n",
    "- Anotación de tipos en variables y funciones"
   ]
  },
  {
   "cell_type": "markdown",
   "id": "a3924063-2ab5-49ee-8166-06afcf459cf0",
   "metadata": {},
   "source": [
    "## [Lectura y escritura de archivos](./04_io_file_operations.ipynb)"
   ]
  },
  {
   "cell_type": "markdown",
   "id": "167328b0-82d1-4a8e-bf5d-c7730da68f4b",
   "metadata": {},
   "source": [
    "- Lectura de archivos\n",
    "- Escritura de archivos\n",
    "- Operaciones con directorios"
   ]
  },
  {
   "cell_type": "markdown",
   "id": "678e1f05-83e6-4a4c-8096-97a6f2f56280",
   "metadata": {},
   "source": [
    "## [Programas para línea de comandos](./05_command_lines.ipynb)"
   ]
  },
  {
   "cell_type": "markdown",
   "id": "dd9b3d33-847a-44b1-b16c-d540176e224e",
   "metadata": {},
   "source": [
    "- Línea de comandos, terminal o consola\n",
    "- Python en la terminal\n",
    "- Gestión de argumentos en la línea de comandos"
   ]
  },
  {
   "cell_type": "markdown",
   "id": "1a9eb509-d339-482b-a3fc-6c01857444c7",
   "metadata": {},
   "source": [
    "## [Módulos](./06_modules.ipynb)"
   ]
  },
  {
   "cell_type": "markdown",
   "id": "8aaa7406-ff89-42ec-9c79-6cb447a9dd31",
   "metadata": {},
   "source": [
    "- Estructura de un módulo\n",
    "- Como utilizar un módulo como línea de comandos\n",
    "- Hacer un módulo instalable: pip y poetry"
   ]
  }
 ],
 "metadata": {
  "kernelspec": {
   "display_name": "Python 3 (ipykernel)",
   "language": "python",
   "name": "python3"
  },
  "language_info": {
   "codemirror_mode": {
    "name": "ipython",
    "version": 3
   },
   "file_extension": ".py",
   "mimetype": "text/x-python",
   "name": "python",
   "nbconvert_exporter": "python",
   "pygments_lexer": "ipython3",
   "version": "3.10.3"
  },
  "toc-autonumbering": true
 },
 "nbformat": 4,
 "nbformat_minor": 5
}
